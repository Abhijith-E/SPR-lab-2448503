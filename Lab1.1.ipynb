{
 "cells": [
  {
   "cell_type": "code",
   "execution_count": 1,
   "id": "9927f0d3",
   "metadata": {},
   "outputs": [],
   "source": [
    "import numpy as np\n",
    "import matplotlib.pyplot as plt\n",
    "from scipy.io import wavfile\n",
    "from scipy.interpolate import interp1d\n",
    "from sklearn.metrics import mean_squared_error\n",
    "from IPython.display import Audio, display"
   ]
  },
  {
   "cell_type": "code",
   "execution_count": 2,
   "id": "7edeff0c",
   "metadata": {},
   "outputs": [],
   "source": [
    "fs_orig, signal_orig = wavfile.read('input.wav')"
   ]
  },
  {
   "cell_type": "code",
   "execution_count": 3,
   "id": "5a258ef9",
   "metadata": {},
   "outputs": [],
   "source": [
    "# Stereo to mono if needed\n",
    "if len(signal_orig.shape) > 1:\n",
    "    signal_orig = signal_orig[:, 0]"
   ]
  },
  {
   "cell_type": "code",
   "execution_count": 4,
   "id": "080ded67",
   "metadata": {},
   "outputs": [],
   "source": [
    "# Normalize\n",
    "signal_orig = signal_orig / np.max(np.abs(signal_orig))"
   ]
  }
 ],
 "metadata": {
  "kernelspec": {
   "display_name": "Python 3",
   "language": "python",
   "name": "python3"
  },
  "language_info": {
   "codemirror_mode": {
    "name": "ipython",
    "version": 3
   },
   "file_extension": ".py",
   "mimetype": "text/x-python",
   "name": "python",
   "nbconvert_exporter": "python",
   "pygments_lexer": "ipython3",
   "version": "3.13.3"
  }
 },
 "nbformat": 4,
 "nbformat_minor": 5
}
